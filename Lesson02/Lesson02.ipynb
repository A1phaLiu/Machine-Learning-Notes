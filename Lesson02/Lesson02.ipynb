{
 "cells": [
  {
   "cell_type": "markdown",
   "metadata": {},
   "source": [
    "## 二维线性插值"
   ]
  },
  {
   "cell_type": "code",
   "execution_count": 18,
   "metadata": {},
   "outputs": [
    {
     "name": "stderr",
     "output_type": "stream",
     "text": [
      "C:\\Users\\risee\\AppData\\Local\\Temp\\ipykernel_4836\\506898724.py:15: DeprecationWarning: `interp2d` is deprecated!\n",
      "`interp2d` is deprecated in SciPy 1.10 and will be removed in SciPy 1.12.0.\n",
      "\n",
      "For legacy code, nearly bug-for-bug compatible replacements are\n",
      "`RectBivariateSpline` on regular grids, and `bisplrep`/`bisplev` for\n",
      "scattered 2D data.\n",
      "\n",
      "In new code, for regular grids use `RegularGridInterpolator` instead.\n",
      "For scattered data, prefer `LinearNDInterpolator` or\n",
      "`CloughTocher2DInterpolator`.\n",
      "\n",
      "For more details see\n",
      "`https://gist.github.com/ev-br/8544371b40f414b7eaf3fe6217209bff`\n",
      "\n",
      "  f = interp2d(x, y, z, kind='linear')\n",
      "C:\\Users\\risee\\AppData\\Local\\Temp\\ipykernel_4836\\506898724.py:22: DeprecationWarning:         `interp2d` is deprecated!\n",
      "        `interp2d` is deprecated in SciPy 1.10 and will be removed in SciPy 1.12.0.\n",
      "\n",
      "        For legacy code, nearly bug-for-bug compatible replacements are\n",
      "        `RectBivariateSpline` on regular grids, and `bisplrep`/`bisplev` for\n",
      "        scattered 2D data.\n",
      "\n",
      "        In new code, for regular grids use `RegularGridInterpolator` instead.\n",
      "        For scattered data, prefer `LinearNDInterpolator` or\n",
      "        `CloughTocher2DInterpolator`.\n",
      "\n",
      "        For more details see\n",
      "        `https://gist.github.com/ev-br/8544371b40f414b7eaf3fe6217209bff`\n",
      "\n",
      "  z_interp = f(x_interp, y_interp)\n"
     ]
    },
    {
     "data": {
      "image/png": "[encoded data removed]",
      "text/plain": [
       "<Figure size 640x480 with 2 Axes>"
      ]
     },
     "metadata": {},
     "output_type": "display_data"
    }
   ],
   "source": [
    "import numpy as np\n",
    "import matplotlib.pyplot as plt\n",
    "from scipy.interpolate import interp2d\n",
    "\n",
    "# 原始数据\n",
    "x = np.array([1, 2, 3, 4, 5])\n",
    "y = np.array([1, 2, 3, 4, 5])\n",
    "z = np.array([[ 1,  4,  9, 16, 25],\n",
    "              [ 2,  8, 18, 32, 50],\n",
    "              [ 3, 12, 27, 48, 75],\n",
    "              [ 4, 16, 36, 64,100],\n",
    "              [ 5, 20, 45, 80,125]])\n",
    "\n",
    "# 创建插值函数\n",
    "f = interp2d(x, y, z, kind='linear')\n",
    "\n",
    "# 生成插值点\n",
    "x_interp = np.linspace(1, 5, num=50)\n",
    "y_interp = np.linspace(1, 5, num=50)\n",
    "\n",
    "# 计算插值结果\n",
    "z_interp = f(x_interp, y_interp)\n",
    "\n",
    "# 绘制原始数据\n",
    "plt.scatter(x, y, c='red', label='Original Data')\n",
    "\n",
    "# 绘制插值结果\n",
    "plt.contourf(x_interp, y_interp, z_interp, cmap='viridis', alpha=0.5)\n",
    "plt.colorbar(label='Interpolated Value')\n",
    "\n",
    "# 设置坐标轴标签和图例\n",
    "plt.xlabel('X')\n",
    "plt.ylabel('Y')\n",
    "plt.legend()\n",
    "\n",
    "# 显示图形\n",
    "plt.show()"
   ]
  },
  {
   "cell_type": "markdown",
   "metadata": {},
   "source": [
    "## 线性回归"
   ]
  },
  {
   "cell_type": "code",
   "execution_count": null,
   "metadata": {},
   "outputs": [
    {
     "name": "stdout",
     "output_type": "stream",
     "text": [
      "系数（斜率）： [2.]\n",
      "截距： -0.20000000000000018\n",
      "预测值： [11.8]\n"
     ]
    }
   ],
   "source": [
    "import numpy as np\n",
    "from sklearn.linear_model import LinearRegression\n",
    "\n",
    "# 准备数据\n",
    "X = np.array([1, 2, 3, 4, 5]).reshape(-1, 1)  # 自变量\n",
    "y = np.array([2, 4, 5, 8, 10])  # 因变量\n",
    "\n",
    "# 创建线性回归模型并拟合数据\n",
    "regression_model = LinearRegression()\n",
    "regression_model.fit(X, y)\n",
    "\n",
    "# 输出模型的系数和截距\n",
    "print(\"系数（斜率）：\", regression_model.coef_)\n",
    "print(\"截距：\", regression_model.intercept_)\n",
    "\n",
    "# 进行预测\n",
    "new_X = np.array([6]).reshape(-1, 1)\n",
    "predicted_y = regression_model.predict(new_X)\n",
    "print(\"预测值：\", predicted_y)"
   ]
  },
  {
   "cell_type": "code",
   "execution_count": 1,
   "metadata": {},
   "outputs": [
    {
     "name": "stdout",
     "output_type": "stream",
     "text": [
      "系数（斜率）： [0.12727273 0.25454545 0.38181818 0.50909091 0.63636364]\n",
      "截距： 7.105427357601002e-15\n",
      "预测值： [42.]\n"
     ]
    }
   ],
   "source": [
    "import numpy as np\n",
    "from sklearn.linear_model import LinearRegression\n",
    "\n",
    "# 准备数据\n",
    "X = np.array([[1, 2, 3, 4, 5],\n",
    "              [2, 4, 6, 8, 10],\n",
    "              [3, 6, 9, 12, 15],\n",
    "              [4, 8, 12, 16, 20],\n",
    "              [5, 10, 15, 20, 25]])  # 自变量，每一行代表一个样本，每一列代表一个自变量\n",
    "y = np.array([7, 14, 21, 28, 35])  # 因变量\n",
    "\n",
    "# 创建线性回归模型并拟合数据\n",
    "regression_model = LinearRegression()\n",
    "regression_model.fit(X, y)\n",
    "\n",
    "# 输出模型的系数和截距\n",
    "print(\"系数（斜率）：\", regression_model.coef_)\n",
    "print(\"截距：\", regression_model.intercept_)\n",
    "\n",
    "# 进行预测\n",
    "new_X = np.array([[6, 12, 18, 24, 30]])\n",
    "predicted_y = regression_model.predict(new_X)\n",
    "print(\"预测值：\", predicted_y)"
   ]
  },
  {
   "cell_type": "markdown",
   "metadata": {},
   "source": [
    "## 主成分分析"
   ]
  },
  {
   "cell_type": "code",
   "execution_count": 15,
   "metadata": {},
   "outputs": [
    {
     "name": "stdout",
     "output_type": "stream",
     "text": [
      "        PC1           PC2\n",
      "0 -2.333452  1.404333e-16\n",
      "1 -0.777817 -5.971035e-17\n",
      "2  0.777817  5.971035e-17\n",
      "3  2.333452  1.006264e-16\n"
     ]
    }
   ],
   "source": [
    "from sklearn.decomposition import PCA\n",
    "import pandas as pd\n",
    "\n",
    "# 加载数据\n",
    "df = pd.read_csv(\"data.csv\")\n",
    "\n",
    "# 提取特征变量\n",
    "X = df.iloc[:, 1:]\n",
    "\n",
    "# 创建PCA对象\n",
    "pca = PCA(n_components=2)  # 设置要保留的主成分个数\n",
    "\n",
    "# 执行主成分分析\n",
    "principal_components = pca.fit_transform(X)\n",
    "\n",
    "# 创建一个新的DataFrame存储主成分结果\n",
    "df_pca = pd.DataFrame(data=principal_components, columns=['PC1', 'PC2'])\n",
    "\n",
    "# 打印主成分结果\n",
    "print(df_pca)"
   ]
  },
  {
   "cell_type": "markdown",
   "metadata": {},
   "source": [
    "## 奇异值分解"
   ]
  },
  {
   "cell_type": "code",
   "execution_count": 16,
   "metadata": {},
   "outputs": [
    {
     "name": "stdout",
     "output_type": "stream",
     "text": [
      "左奇异向量（U）:\n",
      "[[-0.21483724  0.88723069  0.40824829]\n",
      " [-0.52058739  0.24964395 -0.81649658]\n",
      " [-0.82633754 -0.38794278  0.40824829]]\n",
      "奇异值（S）:\n",
      "[1.68481034e+01 1.06836951e+00 4.41842475e-16]\n",
      "右奇异向量的转置（V^T）:\n",
      "[[-0.47967118 -0.57236779 -0.66506441]\n",
      " [-0.77669099 -0.07568647  0.62531805]\n",
      " [-0.40824829  0.81649658 -0.40824829]]\n"
     ]
    }
   ],
   "source": [
    "import numpy as np\n",
    "\n",
    "# 创建一个示例矩阵\n",
    "A = np.array([[1, 2, 3], [4, 5, 6], [7, 8, 9]])\n",
    "\n",
    "# 执行奇异值分解\n",
    "U, S, V = np.linalg.svd(A)\n",
    "\n",
    "# 打印结果\n",
    "print(\"左奇异向量（U）:\")\n",
    "print(U)\n",
    "print(\"奇异值（S）:\")\n",
    "print(S)\n",
    "print(\"右奇异向量的转置（V^T）:\")\n",
    "print(V)"
   ]
  },
  {
   "cell_type": "markdown",
   "metadata": {},
   "source": [
    "## 交叉分析"
   ]
  },
  {
   "cell_type": "code",
   "execution_count": 3,
   "metadata": {},
   "outputs": [
    {
     "name": "stdout",
     "output_type": "stream",
     "text": [
      "Smoker  No  Yes\n",
      "Gender         \n",
      "Female  32    5\n",
      "Male    15   18\n",
      "卡方值: 11.516712238266354\n",
      "P值: 0.0006897327065032132\n",
      "自由度: 1\n",
      "期望频数: [[24.84285714 12.15714286]\n",
      " [22.15714286 10.84285714]]\n"
     ]
    }
   ],
   "source": [
    "import pandas as pd\n",
    "from scipy.stats import chi2_contingency\n",
    "\n",
    "# 创建一个示例数据集\n",
    "data = {\n",
    "    'Gender': ['Male', 'Female', 'Male', 'Female', 'Male', 'Female'],\n",
    "    'Smoker': ['Yes', 'No', 'No', 'Yes', 'Yes', 'No'],\n",
    "    'Count': [10, 20, 15, 5, 8, 12]\n",
    "}\n",
    "df = pd.DataFrame(data)\n",
    "\n",
    "# 构建列联表\n",
    "cross_tab = pd.crosstab(df['Gender'], df['Smoker'], values=df['Count'], aggfunc='sum')\n",
    "\n",
    "# 打印列联表\n",
    "print(cross_tab)\n",
    "\n",
    "# 进行卡方检验\n",
    "chi2, p_value, dof, expected = chi2_contingency(cross_tab)\n",
    "\n",
    "# 打印卡方检验结果\n",
    "print(\"卡方值:\", chi2)\n",
    "print(\"P值:\", p_value)\n",
    "print(\"自由度:\", dof)\n",
    "print(\"期望频数:\", expected)"
   ]
  },
  {
   "cell_type": "code",
   "execution_count": 19,
   "metadata": {},
   "outputs": [
    {
     "name": "stdout",
     "output_type": "stream",
     "text": [
      "{'support': array([ 2,  3,  4,  5,  6,  7,  8,  9, 10], dtype=int64), 'technical': array([0, 1], dtype=int64)}\n",
      "[[nan nan]\n",
      " [nan nan]]\n"
     ]
    },
    {
     "name": "stderr",
     "output_type": "stream",
     "text": [
      "C:\\Users\\risee\\AppData\\Local\\Temp\\ipykernel_4836\\3988514836.py:30: RuntimeWarning: Precision loss occurred in moment calculation due to catastrophic cancellation. This occurs when the data are nearly identical. Results may be unreliable.\n",
      "  p_value = stats.ttest_ind(df['left'].iloc[dp_indices[dp_keys[i]]].values,\n",
      "d:\\miniconda3\\envs\\python_3.9\\lib\\site-packages\\seaborn\\matrix.py:202: RuntimeWarning: All-NaN slice encountered\n",
      "  vmin = np.nanmin(calc_data)\n",
      "d:\\miniconda3\\envs\\python_3.9\\lib\\site-packages\\seaborn\\matrix.py:207: RuntimeWarning: All-NaN slice encountered\n",
      "  vmax = np.nanmax(calc_data)\n"
     ]
    },
    {
     "data": {
      "image/png": "[encoded data removed]",
      "text/plain": [
       "<Figure size 640x480 with 2 Axes>"
      ]
     },
     "metadata": {},
     "output_type": "display_data"
    }
   ],
   "source": [
    "import pandas as pd\n",
    "import numpy as np\n",
    "import scipy.stats as stats\n",
    "import matplotlib.pyplot as plt\n",
    "import seaborn as sns\n",
    "\n",
    "# 加载数据\n",
    "df = pd.read_csv(\"HR.csv\")\n",
    "\n",
    "# 根据部门分组，获取索引\n",
    "dp_indices = df.groupby(by='department').indices\n",
    "\n",
    "print(dp_indices)\n",
    "\n",
    "# 获取sales部门的离职情况\n",
    "sales_values = df['left'].iloc[dp_indices['support']].values\n",
    "\n",
    "# 获取technical部门的离职情况\n",
    "technical_values = df['left'].iloc[dp_indices['technical']].values\n",
    "\n",
    "# 获取部门键名，并转换为可迭代的列表\n",
    "dp_keys = list(dp_indices.keys())\n",
    "\n",
    "# 创建空的矩阵来存储t检验的结果\n",
    "dp_t_mat = np.zeros([len(dp_keys), len(dp_keys)])\n",
    "\n",
    "# 执行t检验\n",
    "for i in range(len(dp_keys)):\n",
    "    for j in range(len(dp_keys)):\n",
    "        p_value = stats.ttest_ind(df['left'].iloc[dp_indices[dp_keys[i]]].values,\n",
    "                                  df['left'].iloc[dp_indices[dp_keys[j]]].values)[1]\n",
    "        dp_t_mat[i][j] = p_value\n",
    "\n",
    "print(dp_t_mat)\n",
    "\n",
    "# 生成热力图\n",
    "sns.heatmap(dp_t_mat, xticklabels=dp_keys, yticklabels=dp_keys)\n",
    "plt.show()"
   ]
  }
 ],
 "metadata": {
  "kernelspec": {
   "display_name": "python_3.9",
   "language": "python",
   "name": "python3"
  },
  "language_info": {
   "codemirror_mode": {
    "name": "ipython",
    "version": 3
   },
   "file_extension": ".py",
   "mimetype": "text/x-python",
   "name": "python",
   "nbconvert_exporter": "python",
   "pygments_lexer": "ipython3",
   "version": "3.9.16"
  }
 },
 "nbformat": 4,
 "nbformat_minor": 2
}
