{
 "cells": [
  {
   "cell_type": "markdown",
   "metadata": {},
   "source": [
    "#### 切分数据集"
   ]
  },
  {
   "cell_type": "code",
   "execution_count": null,
   "metadata": {},
   "outputs": [],
   "source": [
    "from sklearn.model_selection import train_test_split\n",
    "\n",
    "# 假设你有一个特征矩阵 X 和一个标签向量 y\n",
    "\n",
    "# 切分数据集为训练集和测试集，其中 test_size 参数表示测试集所占的比例\n",
    "X_train, X_test, y_train, y_test = train_test_split(X, y, test_size=0.2, random_state=42)\n",
    "\n",
    "# 再将训练集进一步切分为训练集和验证集\n",
    "X_train, X_val, y_train, y_val = train_test_split(X_train, y_train, test_size=0.2, random_state=42)"
   ]
  },
  {
   "cell_type": "markdown",
   "metadata": {},
   "source": [
    "#### 遗传算法"
   ]
  },
  {
   "cell_type": "code",
   "execution_count": 3,
   "metadata": {},
   "outputs": [
    {
     "data": {
      "text/plain": [
       "'10110'"
      ]
     },
     "execution_count": 3,
     "metadata": {},
     "output_type": "execute_result"
    }
   ],
   "source": [
    "# decimal to binary\n",
    "\n",
    "def decimal_to_binary(decimal):\n",
    "    binary = \"\"\n",
    "    \n",
    "    if decimal == 0:\n",
    "        return \"0\"\n",
    "    \n",
    "    while decimal > 0:\n",
    "        remainder = decimal % 2\n",
    "        binary = str(remainder) + binary\n",
    "        decimal = decimal // 2\n",
    "    \n",
    "    return binary\n",
    "\n",
    "\n",
    "result = decimal_to_binary(22)\n",
    "result"
   ]
  },
  {
   "cell_type": "code",
   "execution_count": 5,
   "metadata": {},
   "outputs": [
    {
     "data": {
      "text/plain": [
       "22"
      ]
     },
     "execution_count": 5,
     "metadata": {},
     "output_type": "execute_result"
    }
   ],
   "source": [
    "def binary_to_decimal(binary):\n",
    "    decimal = 0\n",
    "    power = 0\n",
    "    \n",
    "    while binary > 0:\n",
    "        digit = binary % 10\n",
    "        decimal += digit * (2 ** power)\n",
    "        binary //= 10\n",
    "        power += 1\n",
    "    \n",
    "    return decimal\n",
    "\n",
    "result = binary_to_decimal(10110)\n",
    "result"
   ]
  },
  {
   "cell_type": "code",
   "execution_count": 15,
   "metadata": {},
   "outputs": [
    {
     "data": {
      "image/png": "[encoded data removed]",
      "text/plain": [
       "<Figure size 640x480 with 1 Axes>"
      ]
     },
     "metadata": {},
     "output_type": "display_data"
    },
    {
     "name": "stdout",
     "output_type": "stream",
     "text": [
      "Best Individual: [1 1 1 1 1 1 1 1 1 1]\n",
      "Best Fitness: 97.82391555644251\n"
     ]
    }
   ],
   "source": [
    "import numpy as np\n",
    "import matplotlib.pyplot as plt\n",
    "\n",
    "# 定义目标函数\n",
    "def fitness_function(x):\n",
    "    return x**2 + 4*np.sin(x)\n",
    "\n",
    "# 定义遗传算法参数\n",
    "population_size = 50\n",
    "chromosome_length = 10\n",
    "mutation_rate = 0.01\n",
    "num_generations = 100\n",
    "\n",
    "# 初始化种群\n",
    "population = np.random.randint(0, 2, size=(population_size, chromosome_length))\n",
    "\n",
    "# 定义存储适应度值的列表\n",
    "fitness_history = []\n",
    "\n",
    "# 迭代进化\n",
    "for generation in range(num_generations):\n",
    "    # 计算适应度值\n",
    "    fitness_values = fitness_function(population.sum(axis=1))\n",
    "    \n",
    "    # 存储最优适应度值\n",
    "    best_fitness = np.max(fitness_values)\n",
    "    fitness_history.append(best_fitness)\n",
    "    \n",
    "    # 选择操作\n",
    "    selected_indices = np.random.choice(\n",
    "        np.arange(population_size),\n",
    "        size=population_size,\n",
    "        replace=True,\n",
    "        p=fitness_values/fitness_values.sum()\n",
    "    )\n",
    "    selected_population = population[selected_indices]\n",
    "    \n",
    "    # 交叉操作\n",
    "    crossover_point = np.random.randint(1, chromosome_length)\n",
    "    offspring_population = np.empty_like(selected_population)\n",
    "    for i in range(population_size):\n",
    "        parent1 = selected_population[i]\n",
    "        parent2 = selected_population[(i+1) % population_size]\n",
    "        offspring1 = np.concatenate((parent1[:crossover_point], parent2[crossover_point:]))\n",
    "        offspring2 = np.concatenate((parent2[:crossover_point], parent1[crossover_point:]))\n",
    "        offspring_population[i] = offspring1 if np.random.rand() < 0.5 else offspring2\n",
    "    \n",
    "    # 变异操作\n",
    "    mutation_mask = np.random.rand(population_size, chromosome_length) < mutation_rate\n",
    "    offspring_population[mutation_mask] = 1 - offspring_population[mutation_mask]\n",
    "    \n",
    "    # 更新种群\n",
    "    population = offspring_population\n",
    "\n",
    "# 绘制适应度值随迭代次数的变化\n",
    "plt.plot(range(num_generations), fitness_history)\n",
    "plt.xlabel('Generation')\n",
    "plt.ylabel('Best Fitness')\n",
    "plt.title('Genetic Algorithm')\n",
    "plt.show()\n",
    "\n",
    "# 计算最优解\n",
    "fitness_values = fitness_function(population.sum(axis=1))\n",
    "best_individual = population[np.argmax(fitness_values)]\n",
    "best_fitness = np.max(fitness_values)\n",
    "\n",
    "print(\"Best Individual:\", best_individual)\n",
    "print(\"Best Fitness:\", best_fitness)"
   ]
  },
  {
   "cell_type": "code",
   "execution_count": 1,
   "metadata": {},
   "outputs": [
    {
     "name": "stdout",
     "output_type": "stream",
     "text": [
      "Best Solution: [1, 1, 1, 1, 1, 1, 1, 1, 1, 1]\n",
      "Fitness Score: 10\n"
     ]
    }
   ],
   "source": [
    "import random\n",
    "\n",
    "# 问题的目标函数（示例为一个简单的多元函数）\n",
    "def fitness_function(x):\n",
    "    return sum(x)  # 最大化元素之和\n",
    "\n",
    "# 初始化种群\n",
    "def initialize_population(population_size, chromosome_length):\n",
    "    population = []\n",
    "    for _ in range(population_size):\n",
    "        chromosome = [random.randint(0, 1) for _ in range(chromosome_length)]\n",
    "        population.append(chromosome)\n",
    "    return population\n",
    "\n",
    "# 计算个体的适应度\n",
    "def evaluate_fitness(population):\n",
    "    fitness_scores = []\n",
    "    for chromosome in population:\n",
    "        decoded_chromosome = decode_chromosome(chromosome)\n",
    "        fitness = fitness_function(decoded_chromosome)\n",
    "        fitness_scores.append(fitness)\n",
    "    return fitness_scores\n",
    "\n",
    "# 二进制解码\n",
    "def decode_chromosome(chromosome):\n",
    "    decoded_chromosome = []\n",
    "    for gene in chromosome:\n",
    "        decoded_chromosome.append(gene)\n",
    "    return decoded_chromosome\n",
    "\n",
    "# 锦标赛选择（选择适应度较高的个体）\n",
    "def tournament_selection(population, fitness_scores, tournament_size):\n",
    "    selected_population = []\n",
    "    for _ in range(len(population)):\n",
    "        tournament = random.sample(range(len(population)), tournament_size)\n",
    "        winner = max(tournament, key=lambda x: fitness_scores[x])\n",
    "        selected_population.append(population[winner])\n",
    "    return selected_population\n",
    "\n",
    "# 单点交叉操作\n",
    "def crossover(population, crossover_rate):\n",
    "    offspring = []\n",
    "    for i in range(0, len(population), 2):\n",
    "        parent1 = population[i]\n",
    "        parent2 = population[i+1]\n",
    "        if random.random() < crossover_rate:\n",
    "            crossover_point = random.randint(1, len(parent1)-1)\n",
    "            child1 = parent1[:crossover_point] + parent2[crossover_point:]\n",
    "            child2 = parent2[:crossover_point] + parent1[crossover_point:]\n",
    "            offspring.extend([child1, child2])\n",
    "        else:\n",
    "            offspring.extend([parent1, parent2])\n",
    "    return offspring\n",
    "\n",
    "# 突变操作\n",
    "def mutation(population, mutation_rate):\n",
    "    for i in range(len(population)):\n",
    "        for j in range(len(population[i])):\n",
    "            if random.random() < mutation_rate:\n",
    "                population[i][j] = 1 - population[i][j]  # 随机位翻转\n",
    "    return population\n",
    "\n",
    "# 主程序\n",
    "def genetic_algorithm(population_size, chromosome_length, tournament_size,\n",
    "                      crossover_rate, mutation_rate, generations):\n",
    "    # 初始化种群\n",
    "    population = initialize_population(population_size, chromosome_length)\n",
    "\n",
    "    for _ in range(generations):\n",
    "        # 评估适应度\n",
    "        fitness_scores = evaluate_fitness(population)\n",
    "\n",
    "        # 选择操作\n",
    "        population = tournament_selection(population, fitness_scores, tournament_size)\n",
    "\n",
    "        # 遗传操作：交叉和变异\n",
    "        population = crossover(population, crossover_rate)\n",
    "        population = mutation(population, mutation_rate)\n",
    "\n",
    "    # 返回最优个体\n",
    "    best_individual = max(population, key=lambda x: fitness_function(decode_chromosome(x)))\n",
    "    return decode_chromosome(best_individual)\n",
    "\n",
    "# 参数设置\n",
    "population_size = 100\n",
    "chromosome_length = 10\n",
    "tournament_size = 5\n",
    "crossover_rate = 0.8\n",
    "mutation_rate = 0.1\n",
    "generations = 100\n",
    "\n",
    "# 运行遗传算法\n",
    "best_solution = genetic_algorithm(population_size, chromosome_length, tournament_size,\n",
    "                                 crossover_rate, mutation_rate, generations)\n",
    "\n",
    "# 输出结果\n",
    "print(\"Best Solution:\", best_solution)\n",
    "print(\"Fitness Score:\", fitness_function(best_solution))"
   ]
  },
  {
   "cell_type": "markdown",
   "metadata": {},
   "source": [
    "#### 梯度下降法"
   ]
  },
  {
   "cell_type": "code",
   "execution_count": null,
   "metadata": {},
   "outputs": [],
   "source": [
    "import numpy as np\n",
    "\n",
    "def gradient_descent(X, y, learning_rate, num_iterations):\n",
    "    num_samples, num_features = X.shape\n",
    "    theta = np.zeros(num_features)  # 初始化参数为0向量\n",
    "\n",
    "    for iteration in range(num_iterations):\n",
    "        # 计算预测值\n",
    "        y_pred = np.dot(X, theta)\n",
    "\n",
    "        # 计算误差\n",
    "        error = y_pred - y\n",
    "\n",
    "        # 计算梯度\n",
    "        gradient = np.dot(X.T, error) / num_samples\n",
    "\n",
    "        # 更新参数\n",
    "        theta = theta - learning_rate * gradient\n",
    "\n",
    "    return theta\n",
    "\n",
    "# 示例数据\n",
    "X = np.array([[1, 3, 5], [1, 4, 6], [1, 2, 3], [1, 5, 7]])\n",
    "y = np.array([5, 6, 3, 8])\n",
    "\n",
    "# 设置学习率和迭代次数\n",
    "learning_rate = 0.01\n",
    "num_iterations = 1000\n",
    "\n",
    "# 执行梯度下降算法\n",
    "theta = gradient_descent(X, y, learning_rate, num_iterations)\n",
    "\n",
    "print(\"最优参数：\", theta)"
   ]
  },
  {
   "cell_type": "code",
   "execution_count": 1,
   "metadata": {},
   "outputs": [
    {
     "data": {
      "text/plain": [
       "<matplotlib.collections.PathCollection at 0x22164d93f70>"
      ]
     },
     "execution_count": 1,
     "metadata": {},
     "output_type": "execute_result"
    },
    {
     "data": {
      "image/png": "[encoded data removed]",
      "text/plain": [
       "<Figure size 900x600 with 1 Axes>"
      ]
     },
     "metadata": {},
     "output_type": "display_data"
    }
   ],
   "source": [
    "import numpy as np\n",
    "import matplotlib.pyplot as plt\n",
    "f = lambda x : (x - 3.5)**2 -4.5*x + 10\n",
    "# 导函数\n",
    "d = lambda x :2*(x - 3.5) - 4.5 # 梯度 == 导数\n",
    "# 梯度下降的步幅，比例，（学习率，幅度）\n",
    "step = 0.1\n",
    "# 求解当x等于多少的时候，函数值最小。求解目标值：随机生成的\n",
    "# 相等于：'瞎蒙' ----> 方法 ----> 优化\n",
    "x = np.random.randint(0,12,size = 1)[0]\n",
    "# 梯度下降，每下降一步，每走一步，目标值，都会更新。\n",
    "# 更新的这个新值和上一步的值，差异，如果差异很小（万分之一）\n",
    "# 梯度下降退出\n",
    "last_x = x + 0.02 # 记录上一步的值，首先让last_x和x有一定的差异！！！\n",
    "# 精确率，真实计算，都是有误差，自己定义\n",
    "precision = 1e-4\n",
    "x_ = [x]\n",
    "\n",
    "while True:\n",
    "    # 退出条件，精确度，满足了\n",
    "    if np.abs(x - last_x) < precision:\n",
    "        break     \n",
    "    # 更新\n",
    "    last_x = x\n",
    "    x -= step*d(x) # 更新，减法：最小值\n",
    "    x_.append(x)\n",
    "\n",
    "# 数据可视化\n",
    "plt.figure(figsize=(9,6))\n",
    "x = np.linspace(5.75 - 5, 5.75 + 5, 100)\n",
    "y = f(x)\n",
    "plt.plot(x,y,color = 'green')\n",
    "plt.title('gradient descent',size = 24,pad = 15)\n",
    "x_ = np.array(x_)\n",
    "y_ = f(x_)\n",
    "plt.scatter(x_, y_,color = 'red')"
   ]
  },
  {
   "cell_type": "markdown",
   "metadata": {},
   "source": [
    "#### 批量梯度下降BGD"
   ]
  },
  {
   "cell_type": "code",
   "execution_count": 2,
   "metadata": {},
   "outputs": [
    {
     "name": "stdout",
     "output_type": "stream",
     "text": [
      "真实斜率和截距是： 8 7\n",
      "梯度下降计算斜率和截距是： [[8.05751884]\n",
      " [6.94504376]]\n"
     ]
    }
   ],
   "source": [
    "import numpy as np\n",
    "\n",
    "# 1、创建数据集X，y\n",
    "X = np.random.rand(100, 1)\n",
    "w,b = np.random.randint(1,10,size = 2)\n",
    "y = w * X  + b + np.random.randn(100, 1)\n",
    "\n",
    "# 2、使用偏置项x_0 = 1，更新X\n",
    "X = np.c_[X,np.ones((100, 1))]\n",
    "\n",
    "# 3、创建超参数轮次\n",
    "epoches = 10000\n",
    "\n",
    "# 4、定义一个函数来调整学习率\n",
    "t0, t1 = 5, 1000\n",
    "def learning_rate_schedule(t):\n",
    "    return t0/(t+t1)\n",
    "\n",
    "# 5、初始化 W0...Wn，标准正太分布创建W\n",
    "θ = np.random.randn(2, 1)\n",
    "\n",
    "# 6、判断是否收敛，一般不会去设定阈值，而是直接采用设置相对大的迭代次数保证可以收敛\n",
    "for i in range(epoches):\n",
    "    # 根据公式计算梯度\n",
    "    g = X.T.dot(X.dot(θ) - y)\n",
    "    # 应用梯度下降的公式去调整 θ 值\n",
    "    learning_rate = learning_rate_schedule(i)\n",
    "    θ = θ - learning_rate * g\n",
    "print('真实斜率和截距是：',w,b)\n",
    "print('梯度下降计算斜率和截距是：',θ)"
   ]
  },
  {
   "cell_type": "markdown",
   "metadata": {},
   "source": [
    "#### 随机梯度下降SGD"
   ]
  },
  {
   "cell_type": "code",
   "execution_count": 3,
   "metadata": {},
   "outputs": [
    {
     "name": "stdout",
     "output_type": "stream",
     "text": [
      "真实斜率和截距是： 9 5\n",
      "梯度下降计算斜率和截距是： [[8.73580166]\n",
      " [5.35103724]]\n"
     ]
    }
   ],
   "source": [
    "# 1、创建数据集X，y\n",
    "X = 2*np.random.rand(100, 1)\n",
    "w,b = np.random.randint(1,10,size = 2)\n",
    "y = w * X + b + np.random.randn(100, 1)\n",
    "\n",
    "# 2、使用偏置项x_0 = 1，更新X\n",
    "X = np.c_[X, np.ones((100, 1))]\n",
    "\n",
    "# 3、创建超参数轮次、样本数量\n",
    "epochs = 10000\n",
    "n = 100\n",
    "\n",
    "# 4、定义一个函数来调整学习率\n",
    "t0, t1 = 5, 500\n",
    "def learning_rate_schedule(t):\n",
    "    return t0/(t+t1)\n",
    "\n",
    "# 5、初始化 W0...Wn，标准正太分布创建W\n",
    "θ = np.random.randn(2, 1)\n",
    "\n",
    "# 6、多次for循环实现梯度下降，最终结果收敛\n",
    "for epoch in range(epochs):\n",
    "    # 在双层for循环之间，每个轮次开始分批次迭代之前打乱数据索引顺序\n",
    "    index = np.arange(n) # 0 ~99\n",
    "    np.random.shuffle(index)\n",
    "    X = X[index] # 打乱顺序\n",
    "    y = y[index]\n",
    "    for i in range(n):\n",
    "        X_i = X[[i]]\n",
    "        y_i = y[[i]]\n",
    "        g = X_i.T.dot(X_i.dot(θ)-y_i)\n",
    "        learning_rate = learning_rate_schedule(epoch*n + i)\n",
    "        θ = θ - learning_rate * g\n",
    "print('真实斜率和截距是：',w,b)\n",
    "print('梯度下降计算斜率和截距是：',θ)"
   ]
  },
  {
   "cell_type": "markdown",
   "metadata": {},
   "source": [
    "#### 小批量梯度下降MBGD"
   ]
  },
  {
   "cell_type": "code",
   "execution_count": 25,
   "metadata": {},
   "outputs": [
    {
     "name": "stdout",
     "output_type": "stream",
     "text": [
      "真实斜率和截距是： 6 2\n",
      "梯度下降计算斜率和截距是： [[4.71686978]\n",
      " [2.68949203]]\n"
     ]
    }
   ],
   "source": [
    "import numpy as np\n",
    "\n",
    "# 1、创建数据集X，y\n",
    "X = np.random.rand(100, 1)\n",
    "w,b = np.random.randint(1,10,size = 2)\n",
    "y = w * X + b + np.random.randn(100, 1)\n",
    "\n",
    "# 2、使用偏置项x_0 = 1，更新X\n",
    "X = np.c_[X, np.ones((100, 1))]\n",
    "\n",
    "# 3、定义一个函数来调整学习率\n",
    "t0, t1 = 5, 500\n",
    "def learning_rate_schedule(t):\n",
    "    return t0/(t+t1)\n",
    "\n",
    "# 4、创建超参数轮次、样本数量、小批量数量\n",
    "epochs = 100\n",
    "n = 100\n",
    "batch_size = 16\n",
    "num_batches = int(n / batch_size)\n",
    "\n",
    "# 5、初始化 W0...Wn，标准正太分布创建W\n",
    "θ = np.random.randn(2, 1)\n",
    "\n",
    "# 6、多次for循环实现梯度下降，最终结果收敛\n",
    "for epoch in range(epochs):\n",
    "    # 在双层for循环之间，每个轮次开始分批次迭代之前打乱数据索引顺序\n",
    "    index = np.arange(n)\n",
    "    np.random.shuffle(index)\n",
    "    X = X[index]\n",
    "    y = y[index]\n",
    "    for i in range(num_batches):\n",
    "        # 一次取一批数据16个样本\n",
    "        X_batch = X[i * batch_size : (i + 1)*batch_size]\n",
    "        y_batch = y[i * batch_size : (i + 1)*batch_size]\n",
    "        g = X_batch.T.dot(X_batch.dot(θ)-y_batch)\n",
    "        learning_rate = learning_rate_schedule(epoch * n + i)\n",
    "        θ = θ - learning_rate * g\n",
    "\n",
    "print('真实斜率和截距是：',w,b)\n",
    "print('梯度下降计算斜率和截距是：',θ)\n",
    "\n"
   ]
  }
 ],
 "metadata": {
  "kernelspec": {
   "display_name": "python_3.9",
   "language": "python",
   "name": "python3"
  },
  "language_info": {
   "codemirror_mode": {
    "name": "ipython",
    "version": 3
   },
   "file_extension": ".py",
   "mimetype": "text/x-python",
   "name": "python",
   "nbconvert_exporter": "python",
   "pygments_lexer": "ipython3",
   "version": "3.9.16"
  }
 },
 "nbformat": 4,
 "nbformat_minor": 2
}
