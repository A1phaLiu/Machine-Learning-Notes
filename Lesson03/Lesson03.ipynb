{
 "cells": [
  {
   "cell_type": "markdown",
   "metadata": {},
   "source": [
    "## pandas.fillna()"
   ]
  },
  {
   "cell_type": "code",
   "execution_count": 1,
   "metadata": {},
   "outputs": [
    {
     "name": "stdout",
     "output_type": "stream",
     "text": [
      "     A\n",
      "0  1.0\n",
      "1  2.0\n",
      "2  0.0\n",
      "3  4.0\n"
     ]
    }
   ],
   "source": [
    "import pandas as pd\n",
    "\n",
    "df = pd.DataFrame({'A': [1, 2, None, 4]})\n",
    "df_filled = df.fillna(0)\n",
    "print(df_filled)"
   ]
  },
  {
   "cell_type": "code",
   "execution_count": 3,
   "metadata": {},
   "outputs": [
    {
     "name": "stdout",
     "output_type": "stream",
     "text": [
      "     A\n",
      "0  1.0\n",
      "1  2.0\n",
      "2  2.0\n",
      "3  4.0\n"
     ]
    }
   ],
   "source": [
    "# 使用前一个非缺失值进行填充\n",
    "df_filled = df.fillna(method='ffill')\n",
    "print(df_filled)"
   ]
  },
  {
   "cell_type": "code",
   "execution_count": 4,
   "metadata": {},
   "outputs": [
    {
     "name": "stdout",
     "output_type": "stream",
     "text": [
      "     A\n",
      "0  1.0\n",
      "1  2.0\n",
      "2  4.0\n",
      "3  4.0\n"
     ]
    }
   ],
   "source": [
    "# 使用后一个非缺失值进行填充\n",
    "df_filled = df.fillna(method='bfill')\n",
    "print(df_filled)"
   ]
  },
  {
   "cell_type": "markdown",
   "metadata": {},
   "source": [
    "## pandas.drop()"
   ]
  },
  {
   "cell_type": "code",
   "execution_count": 7,
   "metadata": {},
   "outputs": [
    {
     "name": "stdout",
     "output_type": "stream",
     "text": [
      "   A  B\n",
      "0  1  4\n",
      "1  2  5\n",
      "2  3  6\n"
     ]
    },
    {
     "data": {
      "text/html": [
       "<div>\n",
       "<style scoped>\n",
       "    .dataframe tbody tr th:only-of-type {\n",
       "        vertical-align: middle;\n",
       "    }\n",
       "\n",
       "    .dataframe tbody tr th {\n",
       "        vertical-align: top;\n",
       "    }\n",
       "\n",
       "    .dataframe thead th {\n",
       "        text-align: right;\n",
       "    }\n",
       "</style>\n",
       "<table border=\"1\" class=\"dataframe\">\n",
       "  <thead>\n",
       "    <tr style=\"text-align: right;\">\n",
       "      <th></th>\n",
       "      <th>A</th>\n",
       "      <th>B</th>\n",
       "    </tr>\n",
       "  </thead>\n",
       "  <tbody>\n",
       "    <tr>\n",
       "      <th>1</th>\n",
       "      <td>2</td>\n",
       "      <td>5</td>\n",
       "    </tr>\n",
       "    <tr>\n",
       "      <th>2</th>\n",
       "      <td>3</td>\n",
       "      <td>6</td>\n",
       "    </tr>\n",
       "  </tbody>\n",
       "</table>\n",
       "</div>"
      ],
      "text/plain": [
       "   A  B\n",
       "1  2  5\n",
       "2  3  6"
      ]
     },
     "execution_count": 7,
     "metadata": {},
     "output_type": "execute_result"
    }
   ],
   "source": [
    "import pandas as pd\n",
    "import numpy as np\n",
    "df = pd.DataFrame({'A': [1, 2, 3], 'B': [4, 5, 6]})\n",
    "print(df)\n",
    "new_df = df.drop([0])  # 删除索引为0的行\n",
    "new_df"
   ]
  },
  {
   "cell_type": "code",
   "execution_count": 13,
   "metadata": {},
   "outputs": [
    {
     "name": "stdout",
     "output_type": "stream",
     "text": [
      "     A    B\n",
      "0  1.0  4.0\n",
      "1  2.0  NaN\n",
      "2  NaN  6.0\n"
     ]
    },
    {
     "data": {
      "text/html": [
       "<div>\n",
       "<style scoped>\n",
       "    .dataframe tbody tr th:only-of-type {\n",
       "        vertical-align: middle;\n",
       "    }\n",
       "\n",
       "    .dataframe tbody tr th {\n",
       "        vertical-align: top;\n",
       "    }\n",
       "\n",
       "    .dataframe thead th {\n",
       "        text-align: right;\n",
       "    }\n",
       "</style>\n",
       "<table border=\"1\" class=\"dataframe\">\n",
       "  <thead>\n",
       "    <tr style=\"text-align: right;\">\n",
       "      <th></th>\n",
       "      <th>A</th>\n",
       "      <th>B</th>\n",
       "    </tr>\n",
       "  </thead>\n",
       "  <tbody>\n",
       "    <tr>\n",
       "      <th>0</th>\n",
       "      <td>1.0</td>\n",
       "      <td>4.0</td>\n",
       "    </tr>\n",
       "  </tbody>\n",
       "</table>\n",
       "</div>"
      ],
      "text/plain": [
       "     A    B\n",
       "0  1.0  4.0"
      ]
     },
     "execution_count": 13,
     "metadata": {},
     "output_type": "execute_result"
    }
   ],
   "source": [
    "df = pd.DataFrame({'A': [1, 2, np.nan], 'B': [4, np.nan, 6]})\n",
    "print(df)\n",
    "new_df = df.dropna()  # 删除含有缺失值的行\n",
    "new_df"
   ]
  },
  {
   "cell_type": "code",
   "execution_count": 15,
   "metadata": {},
   "outputs": [
    {
     "name": "stdout",
     "output_type": "stream",
     "text": [
      "   A  B\n",
      "0  1  4\n",
      "1  2  5\n",
      "2  2  5\n",
      "3  1  6\n"
     ]
    },
    {
     "data": {
      "text/html": [
       "<div>\n",
       "<style scoped>\n",
       "    .dataframe tbody tr th:only-of-type {\n",
       "        vertical-align: middle;\n",
       "    }\n",
       "\n",
       "    .dataframe tbody tr th {\n",
       "        vertical-align: top;\n",
       "    }\n",
       "\n",
       "    .dataframe thead th {\n",
       "        text-align: right;\n",
       "    }\n",
       "</style>\n",
       "<table border=\"1\" class=\"dataframe\">\n",
       "  <thead>\n",
       "    <tr style=\"text-align: right;\">\n",
       "      <th></th>\n",
       "      <th>A</th>\n",
       "      <th>B</th>\n",
       "    </tr>\n",
       "  </thead>\n",
       "  <tbody>\n",
       "    <tr>\n",
       "      <th>0</th>\n",
       "      <td>1</td>\n",
       "      <td>4</td>\n",
       "    </tr>\n",
       "    <tr>\n",
       "      <th>1</th>\n",
       "      <td>2</td>\n",
       "      <td>5</td>\n",
       "    </tr>\n",
       "    <tr>\n",
       "      <th>3</th>\n",
       "      <td>1</td>\n",
       "      <td>6</td>\n",
       "    </tr>\n",
       "  </tbody>\n",
       "</table>\n",
       "</div>"
      ],
      "text/plain": [
       "   A  B\n",
       "0  1  4\n",
       "1  2  5\n",
       "3  1  6"
      ]
     },
     "execution_count": 15,
     "metadata": {},
     "output_type": "execute_result"
    }
   ],
   "source": [
    "df = pd.DataFrame({'A': [1, 2, 2, 1], 'B': [4, 5, 5, 6]})\n",
    "print(df)\n",
    "new_df = df.drop_duplicates()  # 删除重复的行\n",
    "new_df"
   ]
  },
  {
   "cell_type": "markdown",
   "metadata": {},
   "source": [
    "## pandas.interpolate()"
   ]
  },
  {
   "cell_type": "code",
   "execution_count": 17,
   "metadata": {},
   "outputs": [
    {
     "data": {
      "text/plain": [
       "0    1.0\n",
       "1    2.0\n",
       "2    3.0\n",
       "3    4.0\n",
       "4    5.0\n",
       "dtype: float64"
      ]
     },
     "execution_count": 17,
     "metadata": {},
     "output_type": "execute_result"
    }
   ],
   "source": [
    "import pandas as pd\n",
    "\n",
    "# 创建一个包含缺失值的 Series\n",
    "s = pd.Series([1, np.nan, 3, np.nan, 5])\n",
    "\n",
    "# 使用 interpolate() 方法进行线性插值\n",
    "new_s = s.interpolate()\n",
    "\n",
    "new_s"
   ]
  },
  {
   "cell_type": "markdown",
   "metadata": {},
   "source": [
    "## pandas.quantile()"
   ]
  },
  {
   "cell_type": "code",
   "execution_count": 18,
   "metadata": {},
   "outputs": [
    {
     "name": "stdout",
     "output_type": "stream",
     "text": [
      "Median: 50.0\n",
      "Quartiles:\n",
      "0.25    30.0\n",
      "0.75    70.0\n",
      "dtype: float64\n"
     ]
    }
   ],
   "source": [
    "import pandas as pd\n",
    "\n",
    "data = [10, 20, 30, 40, 50, 60, 70, 80, 90]\n",
    "series = pd.Series(data)\n",
    "\n",
    "# 计算中位数\n",
    "median = series.quantile(0.5)\n",
    "print(\"Median:\", median)\n",
    "\n",
    "# 计算第一四分位数和第三四分位数\n",
    "quartiles = series.quantile([0.25, 0.75])\n",
    "print(\"Quartiles:\")\n",
    "print(quartiles)"
   ]
  },
  {
   "cell_type": "markdown",
   "metadata": {},
   "source": [
    "## 离散化"
   ]
  },
  {
   "cell_type": "code",
   "execution_count": 19,
   "metadata": {},
   "outputs": [
    {
     "name": "stdout",
     "output_type": "stream",
     "text": [
      "   value               bin\n",
      "0     10    (9.96, 23.333]\n",
      "1     15    (9.96, 23.333]\n",
      "2     20    (9.96, 23.333]\n",
      "3     25  (23.333, 36.667]\n",
      "4     30  (23.333, 36.667]\n",
      "5     35  (23.333, 36.667]\n",
      "6     40    (36.667, 50.0]\n",
      "7     45    (36.667, 50.0]\n",
      "8     50    (36.667, 50.0]\n"
     ]
    }
   ],
   "source": [
    "import pandas as pd\n",
    "\n",
    "# 生成示例数据\n",
    "data = [10, 15, 20, 25, 30, 35, 40, 45, 50]\n",
    "\n",
    "# 将数据转换为DataFrame格式\n",
    "df = pd.DataFrame(data, columns=['value'])\n",
    "\n",
    "# 使用cut函数进行等宽离散化\n",
    "bins = 3  # 划分为3个区间\n",
    "df['bin'] = pd.cut(df['value'], bins)\n",
    "\n",
    "print(df)"
   ]
  },
  {
   "cell_type": "code",
   "execution_count": 20,
   "metadata": {},
   "outputs": [
    {
     "name": "stdout",
     "output_type": "stream",
     "text": [
      "   value               bin\n",
      "0     10   (9.999, 23.333]\n",
      "1     15   (9.999, 23.333]\n",
      "2     20   (9.999, 23.333]\n",
      "3     25  (23.333, 36.667]\n",
      "4     30  (23.333, 36.667]\n",
      "5     35  (23.333, 36.667]\n",
      "6     40    (36.667, 50.0]\n",
      "7     45    (36.667, 50.0]\n",
      "8     50    (36.667, 50.0]\n"
     ]
    }
   ],
   "source": [
    "import pandas as pd\n",
    "\n",
    "# 生成示例数据\n",
    "data = [10, 15, 20, 25, 30, 35, 40, 45, 50]\n",
    "\n",
    "# 将数据转换为DataFrame格式\n",
    "df = pd.DataFrame(data, columns=['value'])\n",
    "\n",
    "# 使用qcut函数进行等频离散化\n",
    "bins = 3  # 划分为3个区间\n",
    "df['bin'] = pd.qcut(df['value'], bins)\n",
    "\n",
    "print(df)"
   ]
  },
  {
   "cell_type": "code",
   "execution_count": 21,
   "metadata": {},
   "outputs": [
    {
     "name": "stderr",
     "output_type": "stream",
     "text": [
      "d:\\miniconda3\\envs\\python_3.9\\lib\\site-packages\\sklearn\\cluster\\_kmeans.py:870: FutureWarning: The default value of `n_init` will change from 10 to 'auto' in 1.4. Set the value of `n_init` explicitly to suppress the warning\n",
      "  warnings.warn(\n",
      "d:\\miniconda3\\envs\\python_3.9\\lib\\site-packages\\sklearn\\cluster\\_kmeans.py:1382: UserWarning: KMeans is known to have a memory leak on Windows with MKL, when there are less chunks than available threads. You can avoid it by setting the environment variable OMP_NUM_THREADS=1.\n",
      "  warnings.warn(\n"
     ]
    },
    {
     "name": "stdout",
     "output_type": "stream",
     "text": [
      "   value  bin\n",
      "0     10    1\n",
      "1     15    1\n",
      "2     20    1\n",
      "3     25    2\n",
      "4     30    2\n",
      "5     35    2\n",
      "6     40    0\n",
      "7     45    0\n",
      "8     50    0\n"
     ]
    }
   ],
   "source": [
    "from sklearn.cluster import KMeans\n",
    "import pandas as pd\n",
    "\n",
    "# 生成示例数据\n",
    "data = [10, 15, 20, 25, 30, 35, 40, 45, 50]\n",
    "\n",
    "# 将数据转换为DataFrame格式\n",
    "df = pd.DataFrame(data, columns=['value'])\n",
    "\n",
    "# 使用K-means聚类算法进行离散化\n",
    "k = 3  # 划分为3个簇\n",
    "kmeans = KMeans(n_clusters=k).fit(df)\n",
    "df['bin'] = kmeans.labels_\n",
    "\n",
    "print(df)"
   ]
  },
  {
   "cell_type": "code",
   "execution_count": 22,
   "metadata": {},
   "outputs": [
    {
     "name": "stdout",
     "output_type": "stream",
     "text": [
      "   value  bin\n",
      "0     10   10\n",
      "1     15   15\n",
      "2     20   20\n",
      "3     25   20\n",
      "4     30   20\n",
      "5     35   20\n",
      "6     40   20\n",
      "7     45   20\n",
      "8     50   20\n"
     ]
    }
   ],
   "source": [
    "from sklearn.tree import DecisionTreeClassifier\n",
    "import pandas as pd\n",
    "\n",
    "# 生成示例数据\n",
    "data = [10, 15, 20, 25, 30, 35, 40, 45, 50]\n",
    "\n",
    "# 将数据转换为DataFrame格式\n",
    "df = pd.DataFrame(data, columns=['value'])\n",
    "\n",
    "# 使用决策树算法进行离散化\n",
    "dt = DecisionTreeClassifier(max_leaf_nodes=3)\n",
    "dt.fit(df, df['value'])\n",
    "df['bin'] = dt.predict(df)\n",
    "\n",
    "print(df)"
   ]
  },
  {
   "cell_type": "markdown",
   "metadata": {},
   "source": [
    "## 归一化和标准化"
   ]
  },
  {
   "cell_type": "code",
   "execution_count": 23,
   "metadata": {},
   "outputs": [
    {
     "name": "stdout",
     "output_type": "stream",
     "text": [
      "Min-Max Scaling:\n",
      "[[0.  0.  0. ]\n",
      " [0.5 0.5 0.5]\n",
      " [1.  1.  1. ]]\n",
      "Z-Score Standardization:\n",
      "[[-1.22474487 -1.22474487 -1.22474487]\n",
      " [ 0.          0.          0.        ]\n",
      " [ 1.22474487  1.22474487  1.22474487]]\n"
     ]
    }
   ],
   "source": [
    "from sklearn.preprocessing import MinMaxScaler, StandardScaler\n",
    "import numpy as np\n",
    "\n",
    "# 示例数据\n",
    "data = np.array([[1, 2, 3],\n",
    "                 [4, 5, 6],\n",
    "                 [7, 8, 9]])\n",
    "\n",
    "# 最小-最大缩放\n",
    "min_max_scaler = MinMaxScaler()\n",
    "data_normalized = min_max_scaler.fit_transform(data)\n",
    "print(\"Min-Max Scaling:\")\n",
    "print(data_normalized)\n",
    "\n",
    "# Z-Score标准化\n",
    "zscore_scaler = StandardScaler()\n",
    "data_standardized = zscore_scaler.fit_transform(data)\n",
    "print(\"Z-Score Standardization:\")\n",
    "print(data_standardized)"
   ]
  },
  {
   "cell_type": "markdown",
   "metadata": {},
   "source": [
    "## 数值化"
   ]
  },
  {
   "cell_type": "code",
   "execution_count": 26,
   "metadata": {},
   "outputs": [
    {
     "name": "stdout",
     "output_type": "stream",
     "text": [
      "[0 2 1 0 2]\n"
     ]
    }
   ],
   "source": [
    "from sklearn.preprocessing import LabelEncoder\n",
    "\n",
    "# 创建一个包含类别变量的列表\n",
    "data = ['上', '中', '下', '上', '中']\n",
    "\n",
    "# 创建LabelEncoder对象\n",
    "encoder = LabelEncoder()\n",
    "\n",
    "# 对数据进行数值化\n",
    "encoded_data = encoder.fit_transform(data)\n",
    "\n",
    "# 打印数值化后的结果\n",
    "print(encoded_data)"
   ]
  },
  {
   "cell_type": "code",
   "execution_count": 28,
   "metadata": {},
   "outputs": [
    {
     "name": "stdout",
     "output_type": "stream",
     "text": [
      "[[2.]\n",
      " [1.]\n",
      " [0.]\n",
      " [2.]\n",
      " [1.]]\n"
     ]
    }
   ],
   "source": [
    "from sklearn.preprocessing import OrdinalEncoder\n",
    "\n",
    "# 创建一个包含类别变量的二维数组\n",
    "data = [['上'], ['中'], ['下'], ['上'], ['中']]\n",
    "\n",
    "# 创建OrdinalEncoder对象，并指定映射关系\n",
    "encoder = OrdinalEncoder(categories=[['下', '中', '上']])\n",
    "\n",
    "# 对数据进行数值化\n",
    "encoded_data = encoder.fit_transform(data)\n",
    "\n",
    "# 打印数值化后的结果\n",
    "print(encoded_data)"
   ]
  },
  {
   "cell_type": "code",
   "execution_count": 24,
   "metadata": {},
   "outputs": [
    {
     "name": "stdout",
     "output_type": "stream",
     "text": [
      "   颜色_红  颜色_绿  颜色_蓝\n",
      "0     1     0     0\n",
      "1     0     1     0\n",
      "2     0     0     1\n",
      "3     1     0     0\n",
      "4     0     1     0\n"
     ]
    }
   ],
   "source": [
    "import pandas as pd\n",
    "\n",
    "# 创建一个包含分类变量的DataFrame\n",
    "data = pd.DataFrame({'颜色': ['红', '绿', '蓝', '红', '绿']})\n",
    "\n",
    "# 使用pandas的get_dummies函数进行数值化独热编码\n",
    "encoded_data = pd.get_dummies(data)\n",
    "\n",
    "# 打印编码后的DataFrame\n",
    "print(encoded_data)"
   ]
  },
  {
   "cell_type": "code",
   "execution_count": 25,
   "metadata": {},
   "outputs": [
    {
     "name": "stdout",
     "output_type": "stream",
     "text": [
      "[[1. 0. 0.]\n",
      " [0. 1. 0.]\n",
      " [0. 0. 1.]\n",
      " [1. 0. 0.]\n",
      " [0. 1. 0.]]\n"
     ]
    }
   ],
   "source": [
    "from sklearn.preprocessing import OneHotEncoder\n",
    "import numpy as np\n",
    "\n",
    "# 创建一个包含分类变量的数组\n",
    "data = np.array([['红'], ['绿'], ['蓝'], ['红'], ['绿']])\n",
    "\n",
    "# 创建OneHotEncoder对象\n",
    "encoder = OneHotEncoder()\n",
    "\n",
    "# 对数据进行数值化独热编码\n",
    "encoded_data = encoder.fit_transform(data).toarray()\n",
    "\n",
    "# 打印编码后的数组\n",
    "print(encoded_data)"
   ]
  },
  {
   "cell_type": "markdown",
   "metadata": {},
   "source": [
    "## 正规化"
   ]
  },
  {
   "cell_type": "code",
   "execution_count": 32,
   "metadata": {},
   "outputs": [],
   "source": [
    "import numpy as np\n",
    "\n",
    "# 输入特征 X\n",
    "X = np.array([[1, 2],\n",
    "              [3, 4],\n",
    "              [5, 6]])\n",
    "\n",
    "# 目标变量 y\n",
    "y = np.array([3, 5, 7])"
   ]
  },
  {
   "cell_type": "code",
   "execution_count": 33,
   "metadata": {},
   "outputs": [
    {
     "data": {
      "text/plain": [
       "array([0.9625, 0.    ])"
      ]
     },
     "execution_count": 33,
     "metadata": {},
     "output_type": "execute_result"
    }
   ],
   "source": [
    "from sklearn.linear_model import Lasso\n",
    "\n",
    "# 创建Lasso回归模型，alpha为正规化强度参数\n",
    "lasso = Lasso(alpha=0.1)\n",
    "\n",
    "# 训练模型\n",
    "lasso.fit(X, y)\n",
    "\n",
    "# 获取模型的权重向量\n",
    "weights = lasso.coef_\n",
    "weights"
   ]
  },
  {
   "cell_type": "code",
   "execution_count": 34,
   "metadata": {},
   "outputs": [
    {
     "data": {
      "text/plain": [
       "array([0.49689441, 0.49689441])"
      ]
     },
     "execution_count": 34,
     "metadata": {},
     "output_type": "execute_result"
    }
   ],
   "source": [
    "from sklearn.linear_model import Ridge\n",
    "\n",
    "# 创建Ridge回归模型，alpha为正规化强度参数\n",
    "ridge = Ridge(alpha=0.1)\n",
    "\n",
    "# 训练模型\n",
    "ridge.fit(X, y)\n",
    "\n",
    "# 获取模型的权重向量\n",
    "weights = ridge.coef_\n",
    "weights"
   ]
  },
  {
   "cell_type": "markdown",
   "metadata": {},
   "source": [
    "# LDA"
   ]
  },
  {
   "cell_type": "code",
   "execution_count": 35,
   "metadata": {},
   "outputs": [],
   "source": [
    "import numpy as np\n",
    "\n",
    "# 生成特征数据 X\n",
    "np.random.seed(0)\n",
    "n_samples = 100\n",
    "n_features = 3\n",
    "X = np.random.randn(n_samples, n_features)\n",
    "\n",
    "# 生成目标变量 y\n",
    "y = np.random.randint(0, 2, n_samples)"
   ]
  },
  {
   "cell_type": "code",
   "execution_count": 38,
   "metadata": {},
   "outputs": [
    {
     "name": "stdout",
     "output_type": "stream",
     "text": [
      "降维后的数据 X_lda:\n",
      "[[ 0.30712767]\n",
      " [-1.87763148]\n",
      " [-0.34165333]\n",
      " [ 1.38174172]\n",
      " [ 0.25342184]\n",
      " [-0.26424203]\n",
      " [-2.37859223]\n",
      " [-0.88648083]\n",
      " [-0.70635822]\n",
      " [ 1.57898431]\n",
      " [-0.77648935]\n",
      " [ 1.22159466]\n",
      " [-0.82057978]\n",
      " [-1.00157649]\n",
      " [ 0.32075247]\n",
      " [ 1.18931637]\n",
      " [ 0.03666792]\n",
      " [-1.1088394 ]\n",
      " [ 0.22180063]\n",
      " [-0.27553083]\n",
      " [-0.29322706]\n",
      " [ 0.53925142]\n",
      " [-0.00773587]\n",
      " [ 0.22852864]\n",
      " [ 0.12619626]\n",
      " [-0.0314264 ]\n",
      " [-0.81756987]\n",
      " [-1.73799846]\n",
      " [ 0.53333929]\n",
      " [ 1.3308521 ]\n",
      " [ 0.47765716]\n",
      " [ 0.39697442]\n",
      " [ 0.18199072]\n",
      " [-1.41923935]\n",
      " [-0.45388424]\n",
      " [-1.38821821]\n",
      " [ 1.02907563]\n",
      " [ 1.66103186]\n",
      " [ 1.15504502]\n",
      " [ 1.09195184]\n",
      " [ 0.35653288]\n",
      " [-0.5211206 ]\n",
      " [ 0.90184561]\n",
      " [ 0.555468  ]\n",
      " [-0.14478596]\n",
      " [-0.36480747]\n",
      " [-1.37765123]\n",
      " [ 0.57784267]\n",
      " [-1.8236746 ]\n",
      " [-0.69187926]\n",
      " [-0.61903386]\n",
      " [-0.0961292 ]\n",
      " [-1.37141245]\n",
      " [ 2.25484174]\n",
      " [-1.4374277 ]\n",
      " [-1.63383949]\n",
      " [ 0.51204112]\n",
      " [-0.64947599]\n",
      " [-0.18522175]\n",
      " [ 0.52081809]\n",
      " [-0.21071899]\n",
      " [-0.42379178]\n",
      " [-0.0550401 ]\n",
      " [-0.17997499]\n",
      " [ 0.76214064]\n",
      " [ 0.99474907]\n",
      " [-1.22530508]\n",
      " [ 0.84315108]\n",
      " [-0.04068509]\n",
      " [ 0.38706943]\n",
      " [ 0.50569975]\n",
      " [ 0.03872153]\n",
      " [ 2.33367252]\n",
      " [-0.0871585 ]\n",
      " [-1.13752705]\n",
      " [ 0.35709322]\n",
      " [-0.92277055]\n",
      " [ 0.82312445]\n",
      " [ 2.0782064 ]\n",
      " [ 1.71691378]\n",
      " [ 0.34925993]\n",
      " [-1.29440373]\n",
      " [-1.1893634 ]\n",
      " [ 0.23566028]\n",
      " [ 0.79332653]\n",
      " [-1.42816767]\n",
      " [-0.30894115]\n",
      " [ 0.38054337]\n",
      " [ 1.52418167]\n",
      " [ 0.24382907]\n",
      " [ 2.04418057]\n",
      " [-0.34055463]\n",
      " [-1.99925371]\n",
      " [ 0.24409406]\n",
      " [ 0.66247831]\n",
      " [ 1.13017627]\n",
      " [-0.81863307]\n",
      " [-0.77485107]\n",
      " [ 0.25753146]\n",
      " [ 0.29237813]]\n"
     ]
    }
   ],
   "source": [
    "from sklearn.discriminant_analysis import LinearDiscriminantAnalysis\n",
    "\n",
    "# 创建LDA对象\n",
    "lda = LinearDiscriminantAnalysis(n_components=1)\n",
    "\n",
    "# 拟合LDA模型并进行降维\n",
    "X_lda = lda.fit_transform(X, y)\n",
    "\n",
    "# 查看降维后的数据\n",
    "print(\"降维后的数据 X_lda:\")\n",
    "print(X_lda)"
   ]
  }
 ],
 "metadata": {
  "kernelspec": {
   "display_name": "python_3.9",
   "language": "python",
   "name": "python3"
  },
  "language_info": {
   "codemirror_mode": {
    "name": "ipython",
    "version": 3
   },
   "file_extension": ".py",
   "mimetype": "text/x-python",
   "name": "python",
   "nbconvert_exporter": "python",
   "pygments_lexer": "ipython3",
   "version": "3.9.16"
  }
 },
 "nbformat": 4,
 "nbformat_minor": 2
}
